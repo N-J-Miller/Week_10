{
 "cells": [
  {
   "cell_type": "markdown",
   "id": "7e699ca6",
   "metadata": {},
   "source": [
    "# Warm Up"
   ]
  },
  {
   "cell_type": "code",
   "execution_count": 2,
   "id": "08ae3832",
   "metadata": {},
   "outputs": [],
   "source": [
    "#Dependencies and modules:\n",
    "\n",
    "import matplotlib.pyplot as plt\n",
    "import pandas as pd\n",
    "import numpy as np\n",
    "import requests\n",
    "import time\n",
    "from pprint import pprint\n",
    "import seaborn as sns\n",
    "sns.set_theme(style=\"whitegrid\")\n",
    "import statistics\n",
    "import math\n",
    "from scipy import stats"
   ]
  },
  {
   "cell_type": "code",
   "execution_count": 17,
   "id": "cd5fb982",
   "metadata": {},
   "outputs": [
    {
     "name": "stdout",
     "output_type": "stream",
     "text": [
      "[9, 8, 7, 6, 5, 4, 3, 2, 1, 0]\n"
     ]
    }
   ],
   "source": [
    "# Take the following list [0,1,2,3,4,5,6,7,8,9] and reverse it.\n",
    "# Try to come up with the simplest way of doing this without using the reverse method.\n",
    "\n",
    "list = [0,1,2,3,4,5,6,7,8,9]\n",
    "# Slicing the list with [start, end, step] method, and empty spaces\n",
    "# between colons to take in entire list and -1 to indicate a reverse step\n",
    "print(list[::-1])"
   ]
  },
  {
   "cell_type": "code",
   "execution_count": 18,
   "id": "f4fe7a7e",
   "metadata": {},
   "outputs": [
    {
     "data": {
      "text/plain": [
       "[4.5, 4.0, 3.5, 3.0, 2.5, 2.0, 1.5, 1.0, 0.5, 0.0]"
      ]
     },
     "execution_count": 18,
     "metadata": {},
     "output_type": "execute_result"
    }
   ],
   "source": [
    "# Defining a for loop with the desired operation and calling it.\n",
    "D = [x/2 for x in list[::-1]]\n",
    "\n",
    "D"
   ]
  },
  {
   "cell_type": "markdown",
   "id": "124c1f27",
   "metadata": {},
   "source": [
    "# Class Notes"
   ]
  },
  {
   "cell_type": "markdown",
   "id": "0840b12d",
   "metadata": {},
   "source": [
    "# Scalar\n",
    "\n",
    "# Zipping:\n",
    "zip() combines data. It is powerful because it is a relatively small data structure so allows for high efficiency. Great for working with matrices.\n",
    "\n",
    "# Dot product and Cross product\n",
    "Dot product and Cross product are used a lot in One-Hot encoding and graphic interfaces.\n",
    "\n",
    "## Dot product\n",
    "We use the dot product to multiply vectors. With 2D vectors, this is the \n",
    "same as matrix multiplication, and we produce a scalar value (a number, not a vector)\n",
    "\n",
    "Result tells you the degree to which the vectors interact, or the interaction\n",
    "between similar dimensions.\n",
    "\n",
    "Why do we care? rendering, force diagrams, graphical interfaces\n",
    "\n"
   ]
  },
  {
   "cell_type": "code",
   "execution_count": 23,
   "id": "be6203a1",
   "metadata": {},
   "outputs": [
    {
     "name": "stdout",
     "output_type": "stream",
     "text": [
      "-1 -1\n"
     ]
    }
   ],
   "source": [
    "# to what degree are north and south the same?\n",
    "# create an example\n",
    "\n",
    "north = (0,1)\n",
    "south = (0, -1)\n",
    "\n",
    "print(np.dot(north, south), np.dot(south, north))"
   ]
  },
  {
   "cell_type": "code",
   "execution_count": 24,
   "id": "dd735df6",
   "metadata": {},
   "outputs": [],
   "source": [
    "# They have one degree in common and that degree has an absolute value of 1.\n",
    "\n"
   ]
  },
  {
   "cell_type": "code",
   "execution_count": null,
   "id": "64edfe2f",
   "metadata": {},
   "outputs": [],
   "source": [
    "Class Attendance Code: OutstandingOpsEngineer"
   ]
  }
 ],
 "metadata": {
  "kernelspec": {
   "display_name": "Python 3 (ipykernel)",
   "language": "python",
   "name": "python3"
  },
  "language_info": {
   "codemirror_mode": {
    "name": "ipython",
    "version": 3
   },
   "file_extension": ".py",
   "mimetype": "text/x-python",
   "name": "python",
   "nbconvert_exporter": "python",
   "pygments_lexer": "ipython3",
   "version": "3.9.7"
  }
 },
 "nbformat": 4,
 "nbformat_minor": 5
}

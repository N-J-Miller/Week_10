{
 "cells": [
  {
   "cell_type": "markdown",
   "id": "ebbb9c60",
   "metadata": {},
   "source": [
    "# Linear Algebra in Python"
   ]
  },
  {
   "cell_type": "code",
   "execution_count": 92,
   "id": "2535908e",
   "metadata": {},
   "outputs": [],
   "source": [
    "# Dependencies and modules\n",
    "\n",
    "import pandas as pd\n",
    "import numpy as np\n",
    "import statistics\n",
    "import math\n",
    "from scipy import stats\n",
    "import matplotlib.pyplot as plt\n",
    "import seaborn as sns\n",
    "from sklearn.datasets import load_breast_cancer\n",
    "from sklearn.preprocessing import StandardScaler\n",
    "from sklearn.decomposition import PCA\n",
    "from keras.models import Sequential\n",
    "from keras.layers import Dense\n",
    "from keras.utils import np_utils\n",
    "from tensorflow.keras.optimizers import RMSprop\n"
   ]
  },
  {
   "cell_type": "markdown",
   "id": "9634e992",
   "metadata": {},
   "source": [
    "## Dot Product\n",
    "\n",
    "Dot product is a way to multiply vectors where the product is an integer value. This value is a scalar that describes the moment of the two vectors. The formula allows for x,y coordinate data or vector magnitudes as inputs.\n",
    "\n",
    "$$ v \\cdot w = (x_{1}x_{2})\\cdot(y_{1}y_{2}) = x_{1}y_{1} + x_{2}y_{2} = \\parallel v \\parallel \\cdot \\parallel w \\parallel cos\\alpha $$"
   ]
  },
  {
   "cell_type": "markdown",
   "id": "3343a048",
   "metadata": {},
   "source": [
    "## Cross Product\n",
    "\n",
    "Where dot product multiplies vectors to find a single value that represents the moment, the cross product multiplies vectors in such a way as to produce a third vector that describes the dimensional relationship between the vectors. The product vector is perpendicular to both the input vectors. Cross product outputs the ceiling that caps the walls of your two input vectors.\n",
    "\n",
    "$$ A \\times B =   \\parallel A \\parallel \\parallel B \\parallel sin\\theta n $$\n",
    "\n",
    "\n",
    "\n"
   ]
  },
  {
   "cell_type": "markdown",
   "id": "6555185f",
   "metadata": {},
   "source": [
    "## 2. Write a function angle_between(v1, v2) where v1 and v2 are two vectors that are passed in, and the angle between them is calculated."
   ]
  },
  {
   "cell_type": "code",
   "execution_count": 86,
   "id": "cfcb36c0",
   "metadata": {},
   "outputs": [],
   "source": [
    "# defining my function\n",
    "def angle_between(v1,v2):\n",
    "# Per dot product formula, (A.B=||A||*||B||*cos(x)) where vector A is 2i and vector B is 3i+4j, \n",
    "# X is theta of angle between vectors.\n",
    "# So, I have to use numpy's linear algebra (linalg) module to find the \n",
    "# components I need for the formula.\n",
    "# I will start with finding the dot product with np.dot().\n",
    "    try:\n",
    "        dotprod = np.dot(v1,v2)\n",
    "# Now I have to find the magnitude of the vectors. I will us np.linalg.norm.\n",
    "        v1_mag = np.linalg.norm(v1)\n",
    "        v2_mag = np.linalg.norm(v2)\n",
    "# Now I am multiplying the magnitudes and setting up the division that will let me solve for the angle:        \n",
    "        divisor = v1_mag * v2_mag\n",
    "        #global ratio \n",
    "# 'global' was needed at one point in time because I reference this value again outside the block. Later code revisions \n",
    "# seem to not need this line, but I'm commenting it out rather than deleting it jic. \n",
    "        ratio = dotprod/divisor\n",
    "        #np.seterr(invalid='ignore')\n",
    "# I want to build in a way to call out the ZeroDivide error, since it is likely to occur. Using 'except ZeroDivisionError: print(blah blah)'\n",
    "# didn't work because 'nan' was being printed instead of ZeroDivisionError.\n",
    "        if divisor == 0:\n",
    "            return (\"Cannot divide by a zero magnitude.\")\n",
    "# To find theta, you use the numpy arccos function   \n",
    "        else:\n",
    "            theta = np.arccos(ratio)\n",
    "            return theta\n",
    "# This is to handle all other exceptions:\n",
    "    except Exception as e: \n",
    "        return(e)\n",
    "    #finally:\n",
    "        #return('Ready for next input.') \n",
    "        # I wanted to use this, but it keeps my theta from being printed and I cannot figure out why."
   ]
  },
  {
   "cell_type": "code",
   "execution_count": 87,
   "id": "daef6d9d",
   "metadata": {},
   "outputs": [
    {
     "name": "stdout",
     "output_type": "stream",
     "text": [
      "0.09964803182965676\n",
      "Cannot divide by a zero magnitude.\n",
      "shapes (4,) and (3,) not aligned: 4 (dim 0) != 3 (dim 0)\n",
      "0.2257261285527342\n"
     ]
    }
   ],
   "source": [
    "# Testing my function:\n",
    "# Should produce a theta value for the angle\n",
    "s = np.array([3,4,5])\n",
    "s2 = np.array([7,8,9])\n",
    "# Should fail because ZeroDivide\n",
    "w = np.array([0,0,0])\n",
    "w2 = np.array([0,0,0])\n",
    "# Should fail because matrices are different sized\n",
    "t = np.array([5,3,7,6])\n",
    "t2 = np.array([8,2,1,])\n",
    "# Should produce a theta value for the angle\n",
    "r = np.array([1,2,3])\n",
    "r2 = np.array([4,5,6])\n",
    "# Supress 'invalid value encountered in true_divide' RuntimeWarning\n",
    "np.seterr(invalid='ignore')\n",
    "\n",
    "\n",
    "print(angle_between(s,s2))\n",
    "print(angle_between(w,w2))\n",
    "print(angle_between(t,t2))\n",
    "print(angle_between(r,r2))"
   ]
  },
  {
   "cell_type": "markdown",
   "id": "220f56e4",
   "metadata": {},
   "source": [
    "## 3. Write a function called row_dot(A, r1, r2) which takes an input matrix called A, one row number identified by r1, and another row number identified by r2 and returns the dot product of the r1 and r2 rows (indexing starts at 0).\n"
   ]
  },
  {
   "cell_type": "code",
   "execution_count": 27,
   "id": "2d4e2c2a",
   "metadata": {},
   "outputs": [],
   "source": [
    "# global values for my matrix:\n",
    "A = np.array([[7,6,1,3],\n",
    "             [3,2,4,5],\n",
    "             [1,2,9,3],\n",
    "             [7,3,5,1]])\n",
    "\n",
    "# defining my function\n",
    "def row_dot(A, r1, r2):\n",
    "    \n",
    "# dot product formula: (A.B=||A||*||B||*cos(x)) where vector A is 2i and vector B is 3i+4j\n",
    "# I want to take a matrix and isolate two rows, then treat those rows as arrays or vectors\n",
    "# and multiply them to find a scalar value.\n",
    "# Per instructions, I am to use a 3x3 matrix .\n",
    "\n",
    "\n",
    "#     for i in range(len(n)):\n",
    "#         print(i, n[i-1])    <--- thought maybe looping thru for any row in A?\n",
    "    try:\n",
    "        dotprod = np.dot(A[r1-1],A[r2-1])\n",
    "# # To find the dot product, I use the numpy .dot()  \n",
    "#         else: \n",
    "#             return(dotprod)\n",
    "# I need to build in a way to handle ZeroDivide error:           \n",
    "    except ZeroDivisionError: \n",
    "        return(\"Cannot divide by zero\")\n",
    "\n",
    "    except Exception as e:\n",
    "            return(e)\n",
    "# To find the dot product, I use the numpy .dot()  \n",
    "    else: \n",
    "        return(dotprod)"
   ]
  },
  {
   "cell_type": "code",
   "execution_count": 30,
   "id": "9a7eec7a",
   "metadata": {},
   "outputs": [
    {
     "data": {
      "text/plain": [
       "58"
      ]
     },
     "execution_count": 30,
     "metadata": {},
     "output_type": "execute_result"
    }
   ],
   "source": [
    "# Calling the function\n",
    "row_dot(A,2,3)"
   ]
  },
  {
   "cell_type": "code",
   "execution_count": 31,
   "id": "5bfe42ae",
   "metadata": {},
   "outputs": [
    {
     "name": "stdout",
     "output_type": "stream",
     "text": [
      "58\n"
     ]
    }
   ],
   "source": [
    "# testing that my function calculated the desired dot product\n",
    "test = np.dot(A[1],A[2])\n",
    "print(test)"
   ]
  },
  {
   "cell_type": "markdown",
   "id": "dee321ff",
   "metadata": {},
   "source": [
    "## 4. Write a function matrix_division(m1, m2) that takes in two matrices, m1 and m2, and returns the result. What is the trick with matrix division?\n"
   ]
  },
  {
   "cell_type": "code",
   "execution_count": 40,
   "id": "266178bb",
   "metadata": {},
   "outputs": [],
   "source": [
    "# Defining some matrices:\n",
    "P = np.array([[3,4,5,6],\n",
    "             [7,6,2,1],\n",
    "             [2,4,6,8],\n",
    "             [1,3,5,7]])\n",
    "A = np.array([[7,6,1,3],\n",
    "             [3,2,4,5],\n",
    "             [1,2,9,3],\n",
    "             [7,3,5,1]])\n",
    "\n",
    "# Defining my function:\n",
    "\n",
    "def matrix_division(m1, m2):\n",
    "#The trick to matrix division is simply multiplying one matrix by the inverse of the other. \n",
    "# We can get the inverse of a matrix by using Numpy's linalg function .invers()\n",
    "    try:\n",
    "        x = np.linalg.inv(m2)\n",
    "        result = (m1 * x)\n",
    "        return result\n",
    "    except Exception as e:\n",
    "        return e\n"
   ]
  },
  {
   "cell_type": "code",
   "execution_count": 39,
   "id": "83f2d3db",
   "metadata": {},
   "outputs": [
    {
     "data": {
      "text/plain": [
       "array([[-0.26335878,  0.40712468, -0.75699746,  1.2519084 ],\n",
       "       [ 2.03053435, -1.49618321,  0.39185751, -0.21119593],\n",
       "       [-0.09160305, -0.19338422,  0.65648855,  0.40712468],\n",
       "       [-0.02671756,  0.83206107, -0.37531807, -0.56997455]])"
      ]
     },
     "execution_count": 39,
     "metadata": {},
     "output_type": "execute_result"
    }
   ],
   "source": [
    "matrix_division(P, A)"
   ]
  },
  {
   "cell_type": "markdown",
   "id": "c5eb79f1",
   "metadata": {},
   "source": [
    "## 5. Write a function is_orthogonal(v1,v2, tol), where v1 and v2 are column vectors of the same size and tol is a scalar value strictly larger than 0. The output should be 1 if the angle between v1 and v2 is within tol of π/2; that is, |π/2−θ|<tol, and 0 otherwise. \n"
   ]
  },
  {
   "cell_type": "code",
   "execution_count": 80,
   "id": "a0ae350e",
   "metadata": {},
   "outputs": [],
   "source": [
    "# Define my function:\n",
    "def is_orthogonal(v1,v2,tol):\n",
    "    try:\n",
    "        if v1.shape != v2.shape:\n",
    "            return('Vectors must be of equal length')\n",
    "        elif tol <= 0:\n",
    "            return('Scalar value must be larger than 0')\n",
    "# Before calculations can proceed, the column vectors have to be converted\n",
    "# into traditional vectors or arrays to properly handle the desired operations.\n",
    "# I will do this with the .ravel() function.\n",
    "        else:\n",
    "            angle = np.arccos((np.dot(v1.ravel(),v2.ravel()))/(np.linalg.norm(v1)*np.linalg.norm(v2)))\n",
    "            if abs(np.pi/2-angle)<tol:\n",
    "                return('1')\n",
    "            else:\n",
    "                return('0')\n",
    "    except Exception as e:\n",
    "        return e"
   ]
  },
  {
   "cell_type": "code",
   "execution_count": 81,
   "id": "1e56d96f",
   "metadata": {},
   "outputs": [
    {
     "data": {
      "text/plain": [
       "'Vectors must be of equal length'"
      ]
     },
     "execution_count": 81,
     "metadata": {},
     "output_type": "execute_result"
    }
   ],
   "source": [
    "# Testing error handling:\n",
    "e = np.array([[6], [7], [8]])\n",
    "f = np.array([[9], [10], [11]])\n",
    "u = np.array([[12], [13], [14], [15]])\n",
    "\n",
    "is_orthogonal(e,u,0.01)"
   ]
  },
  {
   "cell_type": "code",
   "execution_count": 82,
   "id": "52676d43",
   "metadata": {},
   "outputs": [
    {
     "data": {
      "text/plain": [
       "'Scalar value must be larger than 0'"
      ]
     },
     "execution_count": 82,
     "metadata": {},
     "output_type": "execute_result"
    }
   ],
   "source": [
    "is_orthogonal(e,f,0)"
   ]
  },
  {
   "cell_type": "code",
   "execution_count": 83,
   "id": "f0f7e804",
   "metadata": {},
   "outputs": [
    {
     "data": {
      "text/plain": [
       "'1'"
      ]
     },
     "execution_count": 83,
     "metadata": {},
     "output_type": "execute_result"
    }
   ],
   "source": [
    "# Test cases for problem 5\n",
    "a = np.array([[1], [0.001]])\n",
    "b = np.array([[0.001], [1]])\n",
    "\n",
    "# output: 1\n",
    "is_orthogonal(a,b, 0.01)\n"
   ]
  },
  {
   "cell_type": "code",
   "execution_count": 84,
   "id": "72805828",
   "metadata": {},
   "outputs": [
    {
     "data": {
      "text/plain": [
       "'0'"
      ]
     },
     "execution_count": 84,
     "metadata": {},
     "output_type": "execute_result"
    }
   ],
   "source": [
    "# output: 0\n",
    "is_orthogonal(a,b, 0.001)\n"
   ]
  },
  {
   "cell_type": "code",
   "execution_count": 85,
   "id": "c5efb7f7",
   "metadata": {},
   "outputs": [
    {
     "data": {
      "text/plain": [
       "'0'"
      ]
     },
     "execution_count": 85,
     "metadata": {},
     "output_type": "execute_result"
    }
   ],
   "source": [
    "\n",
    "# output: 0\n",
    "a = np.array([[1], [0.001]])\n",
    "b = np.array([[1], [1]])\n",
    "is_orthogonal(a,b, 0.01)\n"
   ]
  },
  {
   "cell_type": "code",
   "execution_count": 49,
   "id": "0ab9dc43",
   "metadata": {},
   "outputs": [
    {
     "data": {
      "text/plain": [
       "'1'"
      ]
     },
     "execution_count": 49,
     "metadata": {},
     "output_type": "execute_result"
    }
   ],
   "source": [
    "\n",
    "# output: 1\n",
    "a = np.array([[1], [1]])\n",
    "b = np.array([[-1], [1]])\n",
    "is_orthogonal(a,b, 1e-10)"
   ]
  },
  {
   "cell_type": "markdown",
   "id": "421eda21",
   "metadata": {},
   "source": [
    "## 6.  Create a class called vector_calculator. __init__ should take self, vector1, and vector2. It should have two methods inside of it that are from problems 1 and 4 above (angle_between and is_orthogonal). Make sure tol is defaulted but can be overwritten. Make sure you can call angle_between and is_orthogonal through the class and return the correct results as in problems 2 and 5. "
   ]
  },
  {
   "cell_type": "code",
   "execution_count": 75,
   "id": "e5627430",
   "metadata": {},
   "outputs": [],
   "source": [
    "# Creating a class introduces the self element, which I have to \n",
    "# use carefully so that I can call my functions in the class.\n",
    "class vector_calculator():\n",
    "    def __init__(self, vector1, vector2):\n",
    "        self.v1=np.ravel(vector1)\n",
    "        self.v2=np.ravel(vector2)\n",
    "\n",
    "# my angle_between function from problem 2:        \n",
    "    def angle_between(self):\n",
    "    \n",
    "        v1 = self.v1\n",
    "        v2 = self.v2\n",
    "        \n",
    "        try:\n",
    "            dotprod = np.dot(v1,v2)\n",
    "            v1_mag = np.linalg.norm(v1)\n",
    "            v2_mag = np.linalg.norm(v2)\n",
    "            divisor = v1_mag * v2_mag\n",
    "            ratio = dotprod/divisor\n",
    "            if divisor == 0:\n",
    "                return (\"Cannot divide by a zero magnitude.\")\n",
    "  \n",
    "            else:\n",
    "                theta = np.arccos(ratio)\n",
    "                return theta\n",
    "        \n",
    "        except Exception as e: \n",
    "            return(e)\n",
    " # is_orthogonal function from problem 5:   \n",
    "    def is_orthogonal(self, tol=0):\n",
    "        v1 = self.v1\n",
    "        v2 = self.v2 \n",
    "        try:\n",
    "            if len(v1) != len(v2):\n",
    "                return('Vectors must be of equal length')\n",
    "            elif tol <= 0:\n",
    "                return('Scalar value must be larger than 0')\n",
    "\n",
    "            else:\n",
    "                angle = np.arccos((np.dot(v1.ravel(),v2.ravel()))/(np.linalg.norm(v1)*np.linalg.norm(v2)))\n",
    "                if abs(np.pi/2-angle)<tol:\n",
    "                    return('1')\n",
    "                else:\n",
    "                    return('0')\n",
    "        except Exception as e:\n",
    "            return e\n",
    "    \n",
    "\n",
    "                "
   ]
  },
  {
   "cell_type": "code",
   "execution_count": 74,
   "id": "e3c899cd",
   "metadata": {},
   "outputs": [
    {
     "name": "stdout",
     "output_type": "stream",
     "text": [
      "0.06380094676987083\n",
      "Scalar value must be larger than 0\n",
      "0\n"
     ]
    }
   ],
   "source": [
    "v_1 = np.array([[2],[4],[6],[8]])\n",
    "v_2 = np.array([[3],[5],[7],[9]])\n",
    "\n",
    "c = vector_calculator(v_1,v_2)\n",
    "\n",
    "print(c.angle_between())\n",
    "print(c.is_orthogonal())\n",
    "print(c.is_orthogonal(tol=0.5))"
   ]
  },
  {
   "cell_type": "markdown",
   "id": "aee47fc5",
   "metadata": {},
   "source": [
    "## 7. Show a graphical representation of the breast cancer data outlined in this reading https://www.datacamp.com/community/tutorials/principal-component-analysis-in-python Be sure to describe what PCA is and incorporate the principal components in your plot. This is just exploratory, so there are many correct answers!"
   ]
  }
 ],
 "metadata": {
  "kernelspec": {
   "display_name": "Python 3 (ipykernel)",
   "language": "python",
   "name": "python3"
  },
  "language_info": {
   "codemirror_mode": {
    "name": "ipython",
    "version": 3
   },
   "file_extension": ".py",
   "mimetype": "text/x-python",
   "name": "python",
   "nbconvert_exporter": "python",
   "pygments_lexer": "ipython3",
   "version": "3.9.7"
  }
 },
 "nbformat": 4,
 "nbformat_minor": 5
}

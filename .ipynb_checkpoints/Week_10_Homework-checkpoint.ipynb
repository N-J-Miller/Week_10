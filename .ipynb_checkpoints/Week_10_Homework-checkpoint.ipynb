{
 "cells": [
  {
   "cell_type": "markdown",
   "id": "5976f8c3",
   "metadata": {},
   "source": [
    "# Linear Algebra in Python"
   ]
  },
  {
   "cell_type": "code",
   "execution_count": 46,
   "id": "094ec9ab",
   "metadata": {},
   "outputs": [],
   "source": [
    "# Dependencies and modules\n",
    "\n",
    "import pandas as pd\n",
    "import numpy as np\n",
    "import statistics\n",
    "import math\n",
    "from scipy import stats "
   ]
  },
  {
   "cell_type": "markdown",
   "id": "d8596cfc",
   "metadata": {},
   "source": [
    "## Dot Product\n",
    "\n",
    "Dot product is a way to multiply vectors where the product is an integer value. This value is a scalar that describes the moment of the two vectors. The formula allows for x,y coordinate data or vector magnitudes as inputs.\n",
    "\n",
    "$$ v \\cdot w = (x_{1}x_{2})\\cdot(y_{1}y_{2}) = x_{1}y_{1} + x_{2}y_{2} = \\parallel v \\parallel \\cdot \\parallel w \\parallel cos\\alpha $$"
   ]
  },
  {
   "cell_type": "markdown",
   "id": "1eeea2c6",
   "metadata": {},
   "source": [
    "## Cross Product\n",
    "\n",
    "Where dot product multiplies vectors to find a single value that represents the moment, the cross product multiplies vectors in such a way as to produce a third vector that describes the dimensional relationship between the vectors. The product vector is perpendicular to both the input vectors. Cross product outputs the ceiling that caps the walls of your two input vectors.\n",
    "\n",
    "$$ A \\times B =   \\parallel A \\parallel \\parallel B \\parallel sin\\theta n $$\n",
    "\n",
    "\n",
    "\n"
   ]
  },
  {
   "cell_type": "markdown",
   "id": "4fccfea7",
   "metadata": {},
   "source": [
    "## 2. Write a function angle_between(v1, v2) where v1 and v2 are two vectors that are passed in, and the angle between them is calculated."
   ]
  },
  {
   "cell_type": "code",
   "execution_count": 115,
   "id": "9c716388",
   "metadata": {},
   "outputs": [],
   "source": [
    "# defining my function\n",
    "def angle_between(v1,v2):\n",
    "# Per dot product formula, (A.B=||A||*||B||*cos(x)) where vector A is 2i and vector B is 3i+4j, \n",
    "# X is theta of angle between vectors.\n",
    "# So, I have to use numpy's linear algebra (linalg) module to find the \n",
    "# components I need for the formula.\n",
    "# I will start with finding the dot product with np.dot().\n",
    "    try:\n",
    "        dotprod = np.dot(v1,v2)\n",
    "# Now I have to find the magnitude of the vectors. I will us np.linalg.norm.\n",
    "        v1_mag = np.linalg.norm(v1)\n",
    "        v2_mag = np.linalg.norm(v2)\n",
    "# Now I am multiplying the magnitudes and setting up the division that will let me solve for the angle:        \n",
    "        devisor = v1_mag * v2_mag\n",
    "        #global ratio \n",
    "# 'global' was needed at one point in time because I reference this value again outside the block. Later code revisions \n",
    "# seem to not need this line, but I'm commenting it out rather than deleting it jic. \n",
    "        ratio = dotprod/devisor\n",
    "        #np.seterr(invalid='ignore')\n",
    "# I want to build in a way to call out the ZeroDivide error, since it is likely to occur. Using 'except ZeroDivisionError: print(blah blah)'\n",
    "# didn't work because 'nan' was being printed instead of ZeroDivisionError.\n",
    "        if devisor == 0:\n",
    "            print(\"Cannot divide by a zero magnitude.\")\n",
    "# To find theta, you use the numpy arccos function   \n",
    "        else:\n",
    "            theta = np.arccos(ratio)\n",
    "            return(theta)\n",
    "# This is to handle all other exceptions:\n",
    "    except Exception as e: \n",
    "        print(e)\n",
    "    #finally:\n",
    "        #return('Ready for next input.') \n",
    "        # I wanted to use this, but it keeps my theta from being printed and I cannot figure out why."
   ]
  },
  {
   "cell_type": "code",
   "execution_count": 116,
   "id": "3a2125ee",
   "metadata": {},
   "outputs": [
    {
     "name": "stdout",
     "output_type": "stream",
     "text": [
      "0.09964803182965676\n",
      "Cannot divide by a zero magnitude.\n",
      "None\n",
      "shapes (4,) and (3,) not aligned: 4 (dim 0) != 3 (dim 0)\n",
      "None\n",
      "0.2257261285527342\n"
     ]
    }
   ],
   "source": [
    "# Testing my function:\n",
    "# Should produce a theta value for the angle\n",
    "s = [3,4,5]\n",
    "s2 = [7,8,9]\n",
    "# Should fail because ZeroDivide\n",
    "w = [0,0,0]\n",
    "w2 = [0,0,0]\n",
    "# Should fail because matrices are different sized\n",
    "t = [5,3,7,6]\n",
    "t2 = [8,2,1,]\n",
    "# Should produce a theta value for the angle\n",
    "r = [1,2,3]\n",
    "r2 = [4,5,6]\n",
    "\n",
    "\n",
    "\n",
    "print(angle_between(s,s2))\n",
    "print(angle_between(w,w2))\n",
    "print(angle_between(t,t2))\n",
    "print(angle_between(r,r2))\n",
    "#I do not know why that extra 'None' is printed after the exceptions. ¯\\_(\".)_/¯"
   ]
  },
  {
   "cell_type": "markdown",
   "id": "0b73206c",
   "metadata": {},
   "source": [
    "## 3. Write a function called row_dot(A, r1, r2) which takes an input matrix called A, one row number identified by r1, and another row number identified by r2 and returns the dot product of the r1 and r2 rows (indexing starts at 0).\n"
   ]
  },
  {
   "cell_type": "code",
   "execution_count": null,
   "id": "7afcd3fd",
   "metadata": {},
   "outputs": [],
   "source": [
    "# defining my function\n",
    "def row_dot(A, r1, r2):\n",
    "# dot product formula: (A.B=||A||*||B||*cos(x)) where vector A is 2i and vector B is 3i+4j\n",
    "# I want to take a matrix and isolate two rows, then treat those rows as arrays or vectors\n",
    "# and multiply them to find a scalar value.\n",
    "# Per instructions, I am to use a 3x3 matrix .\n",
    "    try:\n",
    "        dotprod = np.dot(r1,r2)\n",
    "# Now I have to find the magnitude of the vectors. I will us np.linalg.norm.\n",
    "        v1_mag = np.linalg.norm(v1)\n",
    "        v2_mag = np.linalg.norm(v2)\n",
    "        devisor = v1_mag * v2_mag\n",
    "# I need to build in a way to handle ZeroDivide error:           \n",
    "        if devisor == 0:\n",
    "            print(\"Cannot divide by zero\")\n",
    "# To find the dot product, I can now use the numpy .dot()  \n",
    "            else: \n",
    "                dotprod = np.dot(r1,r2)\n",
    "                return(dotprod)\n",
    "    except Exception as e:\n",
    "            print(e)"
   ]
  },
  {
   "cell_type": "code",
   "execution_count": 43,
   "id": "d035c07a",
   "metadata": {},
   "outputs": [
    {
     "data": {
      "text/plain": [
       "array([[1, 2, 3],\n",
       "       [4, 5, 6],\n",
       "       [7, 8, 9]])"
      ]
     },
     "execution_count": 43,
     "metadata": {},
     "output_type": "execute_result"
    }
   ],
   "source": [
    "M = np.array([[1,2,3],[4,5,6],[7,8,9]])\n",
    "M"
   ]
  },
  {
   "cell_type": "markdown",
   "id": "b88d0c2e",
   "metadata": {},
   "source": [
    "# Office Hours Notes"
   ]
  },
  {
   "cell_type": "markdown",
   "id": "49385366",
   "metadata": {},
   "source": [
    "np.ravel\n",
    "\n",
    "must use np.ravel everywhere\n",
    "\n",
    "\n",
    "for question 3, make sure to use -1 to set the index\n",
    "\n",
    "\n",
    "question 7:modify number of components and 'explore' \n",
    "\n",
    "benign and malignant targets\n",
    "\n",
    "What modifications are allowed??\n",
    "try to plot all 3 at once??\n",
    " https://youtu.be/FgakZw6K1QQ  <<< video Clarine shared about \n",
    " plotting multiple parameters.\n",
    " \n",
    " Clarine questions: \n",
    "talking about how well\n",
    "\n"
   ]
  }
 ],
 "metadata": {
  "kernelspec": {
   "display_name": "Python 3 (ipykernel)",
   "language": "python",
   "name": "python3"
  },
  "language_info": {
   "codemirror_mode": {
    "name": "ipython",
    "version": 3
   },
   "file_extension": ".py",
   "mimetype": "text/x-python",
   "name": "python",
   "nbconvert_exporter": "python",
   "pygments_lexer": "ipython3",
   "version": "3.9.7"
  }
 },
 "nbformat": 4,
 "nbformat_minor": 5
}

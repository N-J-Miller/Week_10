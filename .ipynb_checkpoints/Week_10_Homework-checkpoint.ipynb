{
 "cells": [
  {
   "cell_type": "markdown",
   "id": "3b7ab9e6",
   "metadata": {},
   "source": [
    "# Linear Algebra in Python"
   ]
  },
  {
   "cell_type": "code",
   "execution_count": 12,
   "id": "0299687d",
   "metadata": {},
   "outputs": [],
   "source": [
    "# Dependencies and modules\n",
    "\n",
    "import pandas as pd\n",
    "import numpy as np\n",
    "import statistics\n",
    "import math\n",
    "from scipy import stats "
   ]
  },
  {
   "cell_type": "markdown",
   "id": "72b69b16",
   "metadata": {},
   "source": [
    "## Dot Product\n",
    "\n",
    "Dot product is a way to multiply vectors where the product is an integer value. This value is a scalar that describes the moment of the two vectors. The formula allows for x,y coordinate data or vector magnitudes as inputs.\n",
    "\n",
    "$$ v \\cdot w = (x_{1}x_{2})\\cdot(y_{1}y_{2}) = x_{1}y_{1} + x_{2}y_{2} = \\parallel v \\parallel \\cdot \\parallel w \\parallel cos\\alpha $$"
   ]
  },
  {
   "cell_type": "markdown",
   "id": "20bf8b91",
   "metadata": {},
   "source": [
    "## Cross Product\n",
    "\n",
    "Where dot product multiplies vectors to find a single value that represents the moment, the cross product multiplies vectors in such a way as to produce a third vector that describes the dimensional relationship between the vectors. The product vector is perpendicular to both the input vectors. Cross product outputs the ceiling that caps the walls of your two input vectors.\n",
    "\n",
    "$ A \\times B =   \\parallel A \\parallel \\parallel B \\parallel sin\\theta n $\n",
    "\n",
    "\n",
    "\n"
   ]
  },
  {
   "cell_type": "markdown",
   "id": "8258f0fd",
   "metadata": {},
   "source": [
    "## 2. Write a function angle_between(v1, v2) where v1 and v2 are two vectors that are passed in, and the angle between them is calculated."
   ]
  },
  {
   "cell_type": "code",
   "execution_count": 36,
   "id": "8395599e",
   "metadata": {},
   "outputs": [],
   "source": [
    "# defining my function\n",
    "def angle_between(v1,v2):\n",
    "# Per dot product formula, (A.B=||A||*||B||*cos(x)) where vector A is 2i and vector B is 3i+4j, \n",
    "# X is the angle between vectors.\n",
    "# So, I have to use numpy's linear algebra (linalg) module to find the \n",
    "# components I need for the formula.\n",
    "# I will start with finding the dot product with np.dot().\n",
    "    try:\n",
    "        dotprod = np.dot(v1,v2)\n",
    "# Now I have to find the magnitude of the vectors. I will us np.linalg.norm.\n",
    "        v1_mag = np.linalg.norm(v1)\n",
    "        v2_mag = np.linalg.norm(v2)\n",
    "        devisor = v1_mag * v2_mag\n",
    "# I need to build in a way to handle ZeroDivide error:           \n",
    "        if devisor == 0:\n",
    "            print(\"Cannot divide by a zero magnitude.\")\n",
    "# I need to build in a way to handle out of range cosine values:\n",
    "        else: \n",
    "            ratio = dotprod/devisor\n",
    "            if ratio < -1 or ratio > 1:\n",
    "                print('Cosine must be −1≤cos≤1')\n",
    "# To find θ , you use the arccos function .acos()    \n",
    "            else: \n",
    "                theta = math.acos(ratio)\n",
    "                return(theta)\n",
    "    except Exception as e:\n",
    "            print(e)"
   ]
  },
  {
   "cell_type": "code",
   "execution_count": 40,
   "id": "4026845a",
   "metadata": {},
   "outputs": [
    {
     "name": "stdout",
     "output_type": "stream",
     "text": [
      "0.09964803182965676\n",
      "Cannot divide by a zero magnitude.\n",
      "None\n",
      "shapes (4,) and (3,) not aligned: 4 (dim 0) != 3 (dim 0)\n",
      "None\n",
      "0.2257261285527342\n"
     ]
    }
   ],
   "source": [
    "# Testing my function:\n",
    "# Should produce a theta value for the angle\n",
    "s = [3,4,5]\n",
    "s2 = [7,8,9]\n",
    "# Should fail because ZeroDivide\n",
    "w = [0,5,8]\n",
    "w2 = [0,0,0]\n",
    "# Should fail because matrices are different sized\n",
    "t = [5,3,7,6]\n",
    "t2 = [8,2,1,]\n",
    "# Should produce a theta value for the angle\n",
    "r = [1,2,3]\n",
    "r2 = [4,5,6]\n",
    "\n",
    "\n",
    "\n",
    "print(angle_between(s,s2))\n",
    "print(angle_between(w,w2))\n",
    "print(angle_between(t,t2))\n",
    "print(angle_between(r,r2))\n",
    "#I do not know why there is an extra 'None' being printed after exceptions. ¯\\_(\".)_/¯"
   ]
  },
  {
   "cell_type": "code",
   "execution_count": null,
   "id": "9374eeac",
   "metadata": {},
   "outputs": [],
   "source": []
  },
  {
   "cell_type": "code",
   "execution_count": null,
   "id": "dba18f3d",
   "metadata": {},
   "outputs": [],
   "source": []
  }
 ],
 "metadata": {
  "kernelspec": {
   "display_name": "Python 3 (ipykernel)",
   "language": "python",
   "name": "python3"
  },
  "language_info": {
   "codemirror_mode": {
    "name": "ipython",
    "version": 3
   },
   "file_extension": ".py",
   "mimetype": "text/x-python",
   "name": "python",
   "nbconvert_exporter": "python",
   "pygments_lexer": "ipython3",
   "version": "3.9.7"
  }
 },
 "nbformat": 4,
 "nbformat_minor": 5
}

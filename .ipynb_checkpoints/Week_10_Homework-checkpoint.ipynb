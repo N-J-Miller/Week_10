{
 "cells": [
  {
   "cell_type": "markdown",
   "id": "4544248b",
   "metadata": {},
   "source": [
    "# Linear Algebra in Python"
   ]
  },
  {
   "cell_type": "code",
   "execution_count": 1,
   "id": "c1022e6a",
   "metadata": {},
   "outputs": [],
   "source": [
    "# Dependencies and modules\n",
    "\n",
    "import pandas as pd\n",
    "import numpy as np\n",
    "import statistics\n",
    "import math\n",
    "from scipy import stats "
   ]
  },
  {
   "cell_type": "markdown",
   "id": "38967db6",
   "metadata": {},
   "source": [
    "## Dot Product\n",
    "\n",
    "Dot product is a way to multiply vectors where the product is an integer value. This value is a scalar that describes the moment of the two vectors. The formula allows for x,y coordinate data or vector magnitudes as inputs.\n",
    "\n",
    "$$ v \\cdot w = (x_{1}x_{2})\\cdot(y_{1}y_{2}) = x_{1}y_{1} + x_{2}y_{2} = \\parallel v \\parallel \\cdot \\parallel w \\parallel cos\\alpha $$"
   ]
  },
  {
   "cell_type": "markdown",
   "id": "c5e40fe6",
   "metadata": {},
   "source": [
    "## Cross Product\n",
    "\n",
    "Where dot product multiplies vectors to find a single value that represents the moment, the cross product multiplies vectors in such a way as to produce a third vector that describes the dimensional relationship between the vectors. The product vector is perpendicular to both the input vectors. Cross product outputs the ceiling that caps the walls of your two input vectors.\n",
    "\n",
    "$ A \\times B =   \\parallel A \\parallel \\parallel B \\parallel sin\\theta n $\n",
    "\n",
    "\n",
    "\n"
   ]
  },
  {
   "cell_type": "code",
   "execution_count": null,
   "id": "a244ba2a",
   "metadata": {},
   "outputs": [],
   "source": []
  }
 ],
 "metadata": {
  "kernelspec": {
   "display_name": "Python 3 (ipykernel)",
   "language": "python",
   "name": "python3"
  },
  "language_info": {
   "codemirror_mode": {
    "name": "ipython",
    "version": 3
   },
   "file_extension": ".py",
   "mimetype": "text/x-python",
   "name": "python",
   "nbconvert_exporter": "python",
   "pygments_lexer": "ipython3",
   "version": "3.9.7"
  }
 },
 "nbformat": 4,
 "nbformat_minor": 5
}
